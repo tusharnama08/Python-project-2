{
 "cells": [
  {
   "cell_type": "code",
   "execution_count": null,
   "id": "55bf4259-d16c-40a1-b678-86ee947570d6",
   "metadata": {},
   "outputs": [
    {
     "name": "stdin",
     "output_type": "stream",
     "text": [
      "enter username: tushar\n",
      "enter password: tushar@123\n"
     ]
    },
    {
     "name": "stdout",
     "output_type": "stream",
     "text": [
      "login successful\n",
      "WELLCOM TO THE LIBRERY\n",
      "\n",
      "        Press 1 to borrow\n",
      "        press 2 to return\n"
     ]
    },
    {
     "name": "stdin",
     "output_type": "stream",
     "text": [
      "enter your choice between 1 and 2: 1\n",
      "enter name: t\n",
      "enter book name math\n"
     ]
    },
    {
     "name": "stdout",
     "output_type": "stream",
     "text": [
      "{'T': ['Math']}\n"
     ]
    },
    {
     "name": "stdin",
     "output_type": "stream",
     "text": [
      " do you wand to more book yes/no: yes\n",
      "enter book name english\n"
     ]
    },
    {
     "name": "stdout",
     "output_type": "stream",
     "text": [
      "{'T': ['Math', 'English']}\n"
     ]
    },
    {
     "name": "stdin",
     "output_type": "stream",
     "text": [
      " do you wand to more book yes/no: no\n",
      "enter your choice between 1 and 2: 2\n",
      "enter name: t\n",
      "enter book name math\n"
     ]
    },
    {
     "name": "stdout",
     "output_type": "stream",
     "text": [
      "you have successfulle returned the book\n",
      "{'T': ['English']}\n",
      "{'Math': 15, 'Bussince_Story': 20, 'Computer': 15, 'English': 19}\n"
     ]
    },
    {
     "name": "stdin",
     "output_type": "stream",
     "text": [
      "enter your choice between 1 and 2: 2\n",
      "enter name: t\n",
      "enter book name english\n"
     ]
    },
    {
     "name": "stdout",
     "output_type": "stream",
     "text": [
      "you have successfulle returned the book\n",
      "{'T': []}\n",
      "{'Math': 15, 'Bussince_Story': 20, 'Computer': 15, 'English': 20}\n"
     ]
    }
   ],
   "source": [
    "books ={\"Math\":15,\"Bussince_Story\":20, \"Computer\":15, \"English\":20} \n",
    "bb={}\n",
    "while True:\n",
    "    username=\"tushar\"\n",
    "    password=\"tushar@123\"\n",
    "         \n",
    "    un=input(\"enter username:\")\n",
    "    if un==username:\n",
    "        ps=input(\"enter password:\")\n",
    "        if ps==password:\n",
    "            print (\"login successful\")\n",
    "        else:\n",
    "            print(\"error password:\")\n",
    "            break\n",
    "                \n",
    "    else:\n",
    "        print(\"error username:\")\n",
    "        break\n",
    "\n",
    "    while True:\n",
    "        \n",
    "        print(\"WELLCOM TO THE LIBRERY\")\n",
    "        print(\"\"\"\n",
    "        Press 1 to borrow\n",
    "        press 2 to return\"\"\")\n",
    "        while True:\n",
    "            choice=int(input(\"enter your choice between 1 and 2:\"))\n",
    "           \n",
    "            \n",
    "            if choice==1:\n",
    "                name=input(\"enter name:\").title()\n",
    "                if name in bb.keys():\n",
    "                    print(\"this name already exists\")\n",
    "                else:    \n",
    "                    n_books=[]\n",
    "                    while True:\n",
    "                        book = input(\"enter book name\").title()\n",
    "                        if books[book] >0:\n",
    "                            books[book]-=1\n",
    "                            n_books.append(book)\n",
    "                            bb[name] = n_books\n",
    "                            print(bb)\n",
    "                            repeat=input(\" do you wand to more book yes/no:\")\n",
    "                            if repeat==\"no\":\n",
    "                                break\n",
    "    \n",
    "            else:\n",
    "                if choice ==2:\n",
    "                     Name=input(\"enter name:\").title()\n",
    "                     book = input(\"enter book name\").title() \n",
    "                     books[book]+=1\n",
    "                     bb[name].remove(book)\n",
    "                     print(\"you have successfulle returned the book\")\n",
    "        \n",
    "                        \n",
    "                     print(bb)\n",
    "                     print(books)  "
   ]
  },
  {
   "cell_type": "code",
   "execution_count": null,
   "id": "9cec0523-012a-4d88-82d9-f3a094a14519",
   "metadata": {},
   "outputs": [],
   "source": []
  }
 ],
 "metadata": {
  "kernelspec": {
   "display_name": "Python 3 (ipykernel)",
   "language": "python",
   "name": "python3"
  },
  "language_info": {
   "codemirror_mode": {
    "name": "ipython",
    "version": 3
   },
   "file_extension": ".py",
   "mimetype": "text/x-python",
   "name": "python",
   "nbconvert_exporter": "python",
   "pygments_lexer": "ipython3",
   "version": "3.11.6"
  }
 },
 "nbformat": 4,
 "nbformat_minor": 5
}
